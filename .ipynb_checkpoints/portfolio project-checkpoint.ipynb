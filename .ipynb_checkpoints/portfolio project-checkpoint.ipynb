{
 "cells": [
  {
   "cell_type": "markdown",
   "metadata": {},
   "source": [
    "Questions\n",
    "\n",
    "0. Why Prizm is king\n",
    "\n",
    "1. Prizm Variation Multiplier\n",
    "    - Current Price == Last Price\n",
    "2. PSA Grade Multiplier\n",
    "3. Volume/Pricing across months\n",
    "    - what happens when team makes the playoff\n",
    "    - off season\n",
    "    - christmas\n",
    "\n",
    "Reference price\n",
    "- Time -> lose accuracy of the reference price \n",
    "- The seller -> Cosignment house premium \n",
    "- Buy/Auction -> Buy it now premium \n",
    "\n",
    "---> How do these factors between the last reference price's trade date and the current card's trade date influence our models accuracy\n",
    "\n",
    "data manipulation for reference prices \n",
    "pricing model with regression of predictions and plot of errors "
   ]
  },
  {
   "cell_type": "code",
   "execution_count": 1,
   "metadata": {},
   "outputs": [],
   "source": [
    "import pandas as pd\n",
    "from matplotlib import pyplot as plt\n",
    "import numpy as np\n",
    "import os, re"
   ]
  },
  {
   "cell_type": "code",
   "execution_count": 301,
   "metadata": {},
   "outputs": [],
   "source": [
    "# List of common colors (can be expanded as needed)\n",
    "COLORS = set(['black',\n",
    "             'purple',\n",
    "             'blue',\n",
    "             'gold',\n",
    "             'lightblue',\n",
    "             'neongreen',\n",
    "             'orange',\n",
    "             'nebula',\n",
    "             'yellow',\n",
    "             'pink',\n",
    "             'ruby',\n",
    "             'hyper',\n",
    "             'green',\n",
    "             'white',\n",
    "             'bronze',\n",
    "             'shimmer',\n",
    "             'silver',\n",
    "             'teal',\n",
    "             'red'])"
   ]
  },
  {
   "cell_type": "code",
   "execution_count": 295,
   "metadata": {},
   "outputs": [],
   "source": [
    "def camel_to_snake(name):\n",
    "    s1 = re.sub('(.)([A-Z][a-z]+)', r'\\1_\\2', name)\n",
    "    return re.sub('([a-z0-9])([A-Z])', r'\\1_\\2', s1).lower()\n",
    "\n",
    "def contains_color(s):\n",
    "    # Convert the input string to a set of words\n",
    "    words = set(s.lower().split())\n",
    "\n",
    "    # Find the intersection of the colors and words\n",
    "    matched_colors = COLORS & words\n",
    "    \n",
    "    if not matched_colors:\n",
    "        return \"base\"\n",
    "    elif len(matched_colors) == 1:\n",
    "        return matched_colors.pop()\n",
    "    else:\n",
    "        return \"multi\""
   ]
  },
  {
   "cell_type": "markdown",
   "metadata": {},
   "source": [
    "## Import + Re-Filtering"
   ]
  },
  {
   "cell_type": "code",
   "execution_count": 496,
   "metadata": {},
   "outputs": [
    {
     "name": "stderr",
     "output_type": "stream",
     "text": [
      "/Users/imac27/anaconda3/lib/python3.7/site-packages/IPython/core/interactiveshell.py:3049: DtypeWarning: Columns (6,12,13) have mixed types. Specify dtype option on import or set low_memory=False.\n",
      "  interactivity=interactivity, compiler=compiler, result=result)\n"
     ]
    }
   ],
   "source": [
    "df_lots = pd.read_csv(\"card_lots.csv\")\n",
    "df_cards = pd.read_csv(\"card_search.csv\")"
   ]
  },
  {
   "cell_type": "code",
   "execution_count": 507,
   "metadata": {
    "scrolled": true
   },
   "outputs": [],
   "source": [
    "df_cards.columns = [camel_to_snake(col) for col in df_cards.columns]\n",
    "df_lots.columns = [camel_to_snake(col) for col in df_lots.columns]\n",
    "df_cards = df_cards.rename(columns={'variety': 'variation'})\n",
    "df_lots = df_lots.rename(columns={'grade_string': 'grade'})"
   ]
  },
  {
   "cell_type": "code",
   "execution_count": 508,
   "metadata": {
    "scrolled": true
   },
   "outputs": [],
   "source": [
    "# filter out any players from year < 2013 that was scraped by mistake\n",
    "df_cards = df_cards.loc[df_cards.year_issued >= 2013]\n",
    "df_cards.reset_index(drop = True, inplace = True)\n",
    "\n",
    "# filter out any player where we failed to scrape their intended reference card\n",
    "df_cards['years_since_issued'] = 2023 - df_cards.year_issued\n",
    "avg_trade_ct_per_year = df_cards.groupby('item_name_seo').lots_found.max()/\\\n",
    "                        df_cards.groupby('item_name_seo').years_since_issued.mean()\n",
    "df_cards = df_cards.loc[df_cards.item_name_seo.map(avg_trade_ct_per_year > 50)]\n",
    "\n",
    "df_cards.reset_index(drop = True, inplace = True)"
   ]
  },
  {
   "cell_type": "markdown",
   "metadata": {},
   "source": [
    "## Things to clean"
   ]
  },
  {
   "cell_type": "code",
   "execution_count": 249,
   "metadata": {
    "collapsed": true
   },
   "outputs": [
    {
     "data": {
      "text/html": [
       "<div>\n",
       "<style scoped>\n",
       "    .dataframe tbody tr th:only-of-type {\n",
       "        vertical-align: middle;\n",
       "    }\n",
       "\n",
       "    .dataframe tbody tr th {\n",
       "        vertical-align: top;\n",
       "    }\n",
       "\n",
       "    .dataframe thead th {\n",
       "        text-align: right;\n",
       "    }\n",
       "</style>\n",
       "<table border=\"1\" class=\"dataframe\">\n",
       "  <thead>\n",
       "    <tr style=\"text-align: right;\">\n",
       "      <th></th>\n",
       "      <th>card_number</th>\n",
       "      <th>category_name</th>\n",
       "      <th>category_name_seo</th>\n",
       "      <th>heading_id</th>\n",
       "      <th>item_name_seo</th>\n",
       "      <th>lots_found</th>\n",
       "      <th>set_name</th>\n",
       "      <th>set_name_seo</th>\n",
       "      <th>spec_description</th>\n",
       "      <th>spec_id</th>\n",
       "      <th>spec_subject_name</th>\n",
       "      <th>sport_category_id</th>\n",
       "      <th>variation</th>\n",
       "      <th>year_issued</th>\n",
       "      <th>variation_clean</th>\n",
       "      <th>color</th>\n",
       "    </tr>\n",
       "  </thead>\n",
       "  <tbody>\n",
       "    <tr>\n",
       "      <th>735</th>\n",
       "      <td>61</td>\n",
       "      <td>Basketball Cards</td>\n",
       "      <td>basketball-cards</td>\n",
       "      <td>153946</td>\n",
       "      <td>josh-jackson</td>\n",
       "      <td>2</td>\n",
       "      <td>Panini Prizm</td>\n",
       "      <td>panini-prizm</td>\n",
       "      <td>2017,Panini Prizm,061,Josh Jackson,Green Plusar</td>\n",
       "      <td>2555430</td>\n",
       "      <td>Josh Jackson</td>\n",
       "      <td>20019</td>\n",
       "      <td>Green Plusar</td>\n",
       "      <td>2017</td>\n",
       "      <td>green plusar</td>\n",
       "      <td>green</td>\n",
       "    </tr>\n",
       "  </tbody>\n",
       "</table>\n",
       "</div>"
      ],
      "text/plain": [
       "     card_number     category_name category_name_seo  heading_id  \\\n",
       "735           61  Basketball Cards  basketball-cards      153946   \n",
       "\n",
       "    item_name_seo  lots_found      set_name  set_name_seo  \\\n",
       "735  josh-jackson           2  Panini Prizm  panini-prizm   \n",
       "\n",
       "                                    spec_description  spec_id  \\\n",
       "735  2017,Panini Prizm,061,Josh Jackson,Green Plusar  2555430   \n",
       "\n",
       "    spec_subject_name  sport_category_id     variation  year_issued  \\\n",
       "735      Josh Jackson              20019  Green Plusar         2017   \n",
       "\n",
       "    variation_clean  color  \n",
       "735    green plusar  green  "
      ]
     },
     "execution_count": 249,
     "metadata": {},
     "output_type": "execute_result"
    }
   ],
   "source": [
    "# mispelled card variations\n",
    "df_cards.loc[df_cards.variation_clean.str.contains('plusar')]"
   ]
  },
  {
   "cell_type": "code",
   "execution_count": 119,
   "metadata": {
    "collapsed": true
   },
   "outputs": [
    {
     "data": {
      "text/html": [
       "<div>\n",
       "<style scoped>\n",
       "    .dataframe tbody tr th:only-of-type {\n",
       "        vertical-align: middle;\n",
       "    }\n",
       "\n",
       "    .dataframe tbody tr th {\n",
       "        vertical-align: top;\n",
       "    }\n",
       "\n",
       "    .dataframe thead th {\n",
       "        text-align: right;\n",
       "    }\n",
       "</style>\n",
       "<table border=\"1\" class=\"dataframe\">\n",
       "  <thead>\n",
       "    <tr style=\"text-align: right;\">\n",
       "      <th></th>\n",
       "      <th>1773</th>\n",
       "      <th>1774</th>\n",
       "    </tr>\n",
       "  </thead>\n",
       "  <tbody>\n",
       "    <tr>\n",
       "      <th>card_number</th>\n",
       "      <td>68</td>\n",
       "      <td>68</td>\n",
       "    </tr>\n",
       "    <tr>\n",
       "      <th>category_name</th>\n",
       "      <td>Basketball Cards</td>\n",
       "      <td>Basketball Cards</td>\n",
       "    </tr>\n",
       "    <tr>\n",
       "      <th>category_name_seo</th>\n",
       "      <td>basketball-cards</td>\n",
       "      <td>basketball-cards</td>\n",
       "    </tr>\n",
       "    <tr>\n",
       "      <th>heading_id</th>\n",
       "      <td>162293</td>\n",
       "      <td>162293</td>\n",
       "    </tr>\n",
       "    <tr>\n",
       "      <th>item_name_seo</th>\n",
       "      <td>kevin-huerter</td>\n",
       "      <td>kevin-huerter</td>\n",
       "    </tr>\n",
       "    <tr>\n",
       "      <th>lots_found</th>\n",
       "      <td>6</td>\n",
       "      <td>1</td>\n",
       "    </tr>\n",
       "    <tr>\n",
       "      <th>set_name</th>\n",
       "      <td>Panini Prizm</td>\n",
       "      <td>Panini Prizm</td>\n",
       "    </tr>\n",
       "    <tr>\n",
       "      <th>set_name_seo</th>\n",
       "      <td>panini-prizm</td>\n",
       "      <td>panini-prizm</td>\n",
       "    </tr>\n",
       "    <tr>\n",
       "      <th>spec_description</th>\n",
       "      <td>2018,Panini Prizm,068,Kevin Huerter,Purple Prizm</td>\n",
       "      <td>2018,Panini Prizm,068,Kevin Huerter,Purple Ref...</td>\n",
       "    </tr>\n",
       "    <tr>\n",
       "      <th>spec_id</th>\n",
       "      <td>2742896</td>\n",
       "      <td>2786397</td>\n",
       "    </tr>\n",
       "    <tr>\n",
       "      <th>spec_subject_name</th>\n",
       "      <td>Kevin Huerter</td>\n",
       "      <td>Kevin Huerter</td>\n",
       "    </tr>\n",
       "    <tr>\n",
       "      <th>sport_category_id</th>\n",
       "      <td>20019</td>\n",
       "      <td>20019</td>\n",
       "    </tr>\n",
       "    <tr>\n",
       "      <th>variety</th>\n",
       "      <td>Purple Prizm</td>\n",
       "      <td>Purple Refractor</td>\n",
       "    </tr>\n",
       "    <tr>\n",
       "      <th>year_issued</th>\n",
       "      <td>2018</td>\n",
       "      <td>2018</td>\n",
       "    </tr>\n",
       "    <tr>\n",
       "      <th>variety_clean</th>\n",
       "      <td>Purple Prizm</td>\n",
       "      <td>Purple</td>\n",
       "    </tr>\n",
       "  </tbody>\n",
       "</table>\n",
       "</div>"
      ],
      "text/plain": [
       "                                                               1773  \\\n",
       "card_number                                                      68   \n",
       "category_name                                      Basketball Cards   \n",
       "category_name_seo                                  basketball-cards   \n",
       "heading_id                                                   162293   \n",
       "item_name_seo                                         kevin-huerter   \n",
       "lots_found                                                        6   \n",
       "set_name                                               Panini Prizm   \n",
       "set_name_seo                                           panini-prizm   \n",
       "spec_description   2018,Panini Prizm,068,Kevin Huerter,Purple Prizm   \n",
       "spec_id                                                     2742896   \n",
       "spec_subject_name                                     Kevin Huerter   \n",
       "sport_category_id                                             20019   \n",
       "variety                                                Purple Prizm   \n",
       "year_issued                                                    2018   \n",
       "variety_clean                                          Purple Prizm   \n",
       "\n",
       "                                                                1774  \n",
       "card_number                                                       68  \n",
       "category_name                                       Basketball Cards  \n",
       "category_name_seo                                   basketball-cards  \n",
       "heading_id                                                    162293  \n",
       "item_name_seo                                          kevin-huerter  \n",
       "lots_found                                                         1  \n",
       "set_name                                                Panini Prizm  \n",
       "set_name_seo                                            panini-prizm  \n",
       "spec_description   2018,Panini Prizm,068,Kevin Huerter,Purple Ref...  \n",
       "spec_id                                                      2786397  \n",
       "spec_subject_name                                      Kevin Huerter  \n",
       "sport_category_id                                              20019  \n",
       "variety                                             Purple Refractor  \n",
       "year_issued                                                     2018  \n",
       "variety_clean                                                 Purple  "
      ]
     },
     "execution_count": 119,
     "metadata": {},
     "output_type": "execute_result"
    }
   ],
   "source": [
    "# there are some mistakes with PSA's labeling. Refractor and Prizm here represent the same thing\n",
    "# we don't actually get the data for these instances\n",
    "df_cards.loc[(df_cards.year_issued == 2018)&\n",
    "             (df_cards.variety.isin(['Purple Prizm', 'Purple Refractor']))&\n",
    "             (df_cards.item_name_seo == 'kevin-huerter')].sort_values('item_name_seo').T"
   ]
  },
  {
   "cell_type": "code",
   "execution_count": 486,
   "metadata": {
    "collapsed": true
   },
   "outputs": [
    {
     "data": {
      "text/plain": [
       "spec_id                                                           2897447\n",
       "auction_item_id                                      -8904354974967057342\n",
       "auction_name                                                patriccrott-7\n",
       "auction_type                                                      Auction\n",
       "cert_no                                                          45758341\n",
       "end_date                                                         2/6/2023\n",
       "grade                                                                 NaN\n",
       "has_qualifier                                                       False\n",
       "image_url               https://d1w8cc2yygc27j.cloudfront.net/-8904354...\n",
       "is_psadna                                                           False\n",
       "lot_no                                                       266102849163\n",
       "name                                                                 eBay\n",
       "no_grade_description                                                  NaN\n",
       "qualifier                                                             NaN\n",
       "sale_price                                                        $965.00\n",
       "url                                 https://www.ebay.com/itm/266102849163\n",
       "is_ref_card                                                         False\n",
       "Name: 131043, dtype: object"
      ]
     },
     "execution_count": 486,
     "metadata": {},
     "output_type": "execute_result"
    }
   ],
   "source": [
    "# cards without grades \n",
    "# - scrape actual certification page?\n",
    "# -- https://www.psacard.com/auctionprices/basketball-cards/2019-panini-prizm/darius-garland/auction/8250801947179361216\n",
    "\n",
    "df_lots['grade'] = df_lots['grade'].str.replace(r'\\.0','')\n",
    "\n",
    "df_lots[df_lots['grade'].isna()]#.image_url#[0]\n",
    "df_cards.loc[df_cards.spec_id == 2897447].T\n",
    "df_lots.iloc[131043]\n",
    "\n",
    "# https://www.psacard.com/auctionprices/basketball-cards/2019-panini-prizm/darius-garland/values/2897447z\n"
   ]
  },
  {
   "cell_type": "markdown",
   "metadata": {},
   "source": [
    "## CLEANING"
   ]
  },
  {
   "cell_type": "code",
   "execution_count": 354,
   "metadata": {},
   "outputs": [],
   "source": [
    "df_cards['variation_clean'] = df_cards['variation'].copy()\n",
    "df_cards['variation_clean'] = df_cards['variation_clean'].fillna('base')\n",
    "df_cards['variation_clean'] = df_cards['variation_clean'].str.lower()\n",
    "df_cards['variation_clean'] = df_cards['variation_clean']\\\n",
    ".str.replace('die-cut','diecut')\\\n",
    ".str.replace('-',' - ')\\\n",
    ".str.replace('/',' ')\\\n",
    ".str.replace('and ','')\\\n",
    ".str.replace('& ','')\\\n",
    ".str.replace('&','')\\\n",
    ".str.replace('1 1','1/1')\\\n",
    ".str.replace('refractor','prizm')\n",
    "\n",
    "# In 2013, 2014 Panini Prizm variation \"Prizm\" was the equivalent of the Silver Variation\n",
    "df_cards.loc[df_cards.variation_clean == 'prizm', 'variation_clean'] = 'silver prizm'\n",
    "df_cards.loc[df_cards.variation_clean == 'silver', 'variation_clean'] = 'silver prizm'\n",
    "\n",
    "# tokenization related to colors\n",
    "df_cards['variation_clean'] = df_cards['variation_clean'].str.replace('light blue', 'lightblue')\n",
    "df_cards['variation_clean'] = df_cards['variation_clean'].str.replace('neon green', 'neongreen')\n",
    "\n",
    "# tokenization related to boxes\n",
    "df_cards['variation_clean'] = df_cards['variation_clean'].str.replace('factory set', 'factoryset')\n",
    "df_cards['variation_clean'] = df_cards['variation_clean'].str.replace('fast break', 'fastbreak')\n"
   ]
  },
  {
   "cell_type": "markdown",
   "metadata": {},
   "source": [
    "## FEATURES"
   ]
  },
  {
   "cell_type": "code",
   "execution_count": 355,
   "metadata": {},
   "outputs": [],
   "source": [
    "# color column\n",
    "df_cards['color'] = df_cards.variation_clean.apply(lambda x: contains_color(x))\n"
   ]
  },
  {
   "cell_type": "code",
   "execution_count": 356,
   "metadata": {},
   "outputs": [],
   "source": [
    "PHOTO_VARIATION_NAMES = ['facing forward',\n",
    "                         'ball under leg',\n",
    "                         'ball under arm',\n",
    "                         'ball in two hands',\n",
    "                         'dribbling',\n",
    "                         'turned to side',\n",
    "                         'ball behind back',\n",
    "                         'shooting',\n",
    "                         'layup',\n",
    "                         'ball in one h', 'variation']\n",
    "\n",
    "# cards sold in different boxes\n",
    "df_cards['is_photo'] = df_cards.variation_clean.str.contains('|'.join(PHOTO_VARIATION_NAMES))\n",
    "df_cards['is_fastbreak'] = df_cards.variation_clean.str.contains('fastbreak')\n",
    "df_cards['is_factoryset'] = df_cards.variation_clean.str.contains('factoryset')\n",
    "df_cards['is_choice'] = df_cards.variation_clean.str.contains('choice')\n",
    "df_cards['is_fotl'] = df_cards.variation_clean.str.contains('fotl')\n",
    "\n",
    "# cards serialized\n",
    "df_cards['is_1of1'] = df_cards.variation_clean.str.contains('1/1')\n",
    "\n",
    "# unique 'rare' variations\n",
    "df_cards['is_anniversary'] = df_cards.variation_clean.str.contains('75|anniversary')\n",
    "df_cards['is_auto'] = df_cards.variation_clean.str.contains('auto')\n",
    "\n",
    "# texture/pattern variations\n",
    "df_cards['is_pulsar'] = df_cards.variation_clean.str.contains('pulsar|plusar')\n",
    "df_cards['is_wave'] = df_cards.variation_clean.str.contains('wave')\n",
    "df_cards['is_hyper'] = df_cards.variation_clean.str.contains('hyper')\n",
    "df_cards['is_shimmer'] = df_cards.variation_clean.str.contains('hyper')\n",
    "df_cards['is_sparkle'] = df_cards.variation_clean.str.contains('sparkle')\n",
    "df_cards['is_mojo'] = df_cards.variation_clean.str.contains('mojo')\n",
    "df_cards['is_diecut'] = df_cards.variation_clean.str.contains('diecut')\n"
   ]
  },
  {
   "cell_type": "markdown",
   "metadata": {},
   "source": [
    "#### what box\n",
    "*{'fastbreak': ['fastbreak'] + PHOTO_VARIATION_NAMES, \n",
    " 'megabox': ['ice'], \n",
    " 'choice': ['choice'], \n",
    " 'fotl': ['fotl']\n",
    " 'hobby': ['']}*"
   ]
  },
  {
   "cell_type": "code",
   "execution_count": 357,
   "metadata": {
    "scrolled": true
   },
   "outputs": [
    {
     "data": {
      "text/plain": [
       "array(['red white blue pulsar prizm', 'red white blue mosaic prizm',\n",
       "       'gold prizm', 'red prizm', 'lightblue diecut prizm',\n",
       "       'orange prizm', 'purple diecut prizm', 'blue prizm',\n",
       "       'silver prizm', 'green prizm', 'base', 'orange diecut prizm',\n",
       "       'blue green mosaic prizm', 'blue mojo prizm', 'lightblue prizm',\n",
       "       'red pulsar prizm', 'gold pulsar prizm', 'blue wave prizm',\n",
       "       'yellow red mosaic prizm', 'orange wave prizm', 'ruby wave prizm',\n",
       "       'white sparkle prizm', 'flash prizm', 'purple prizm',\n",
       "       'red white blue prizm', 'mojo prizm', 'starburst prizm',\n",
       "       '5th anniversary prizm', 'teal wave prizm', 'hyper prizm',\n",
       "       'blue ice', 'fastbreak prizm - red', 'red shimmer', 'ruby wave',\n",
       "       'fastbreak prizm - neongreen', 'fastbreak prizm - autograph',\n",
       "       'fastbreak prizm - bronze', 'fastbreak prizm - purple',\n",
       "       'fastbreak prizm', 'red pulsar', 'fastbreak prizm - pink',\n",
       "       'autograph', 'pink pulsar', 'fastbreak prizm - blue',\n",
       "       'green pulsar', 'fastbreak prizm - autograph - gold',\n",
       "       'purple pulsar', 'blue shimmer',\n",
       "       'choice prizm - blue yellow green', 'choice prizm - green',\n",
       "       'choice prizm - tiger stripe', 'purple wave', 'choice prizm - red',\n",
       "       'purple ice', 'pink ice', 'red ice', 'black gold',\n",
       "       'choice prizm - nebula 1/1', 'lightblue shimmer', 'blue',\n",
       "       'green ice', 'white sparkle', 'green shimmer', 'gold shimmer',\n",
       "       'orange ice', 'black gold prizm', 'black shimmer 1/1', 'gold',\n",
       "       'lucky envelopes', 'choice prizm - blue', 'gold wave prizm',\n",
       "       'orange wave', 'premium factoryset', 'blue yellow green choice',\n",
       "       'red fastbreak', 'green wave', 'pulsar', 'nba 75th prizm',\n",
       "       'nba 75th diamond prizm', 'blue wave', 'ice', 'fastbreak',\n",
       "       'nebula choice 1/1', 'blue fastbreak', 'blue choice', 'red choice',\n",
       "       'pink fastbreak', 'neongreen fastbreak', 'red gold wave',\n",
       "       'tiger stripes choice', 'purple fastbreak', 'bronze fastbreak',\n",
       "       'green shimmer fotl', 'purple choice', 'red power'], dtype=object)"
      ]
     },
     "execution_count": 357,
     "metadata": {},
     "output_type": "execute_result"
    }
   ],
   "source": [
    "df_cards.loc[np.prod([df_cards[x] for x in ['is_photo']], axis = 0) == False].variation_clean.unique()\n"
   ]
  },
  {
   "cell_type": "markdown",
   "metadata": {},
   "source": [
    "## DATA VISUALIZATION"
   ]
  },
  {
   "cell_type": "code",
   "execution_count": 358,
   "metadata": {
    "scrolled": false
   },
   "outputs": [
    {
     "data": {
      "image/png": "[encoded data removed]",
      "text/plain": [
       "<Figure size 1440x360 with 1 Axes>"
      ]
     },
     "metadata": {
      "needs_background": "light"
     },
     "output_type": "display_data"
    }
   ],
   "source": [
    "from collections import Counter\n",
    "\n",
    "variation_keywords = [x.split() for x in df_cards['variation_clean'].unique()]\n",
    "flattened_keywords = [word for sublist in variation_keywords for word in sublist]\n",
    "flattened_keywords = [x for x in flattened_keywords if x not in COLORS]\n",
    "keyword_count = pd.Series(Counter(flattened_keywords)).sort_values(ascending = False)\n",
    "\n",
    "plt.figure(figsize = (20, 5))\n",
    "plt.bar(keyword_count.index, keyword_count.values)\n",
    "plt.xticks(rotation=45)\n",
    "plt.xlabel(\"Words\")\n",
    "plt.ylabel(\"Count\")\n",
    "plt.title(\"Word Frequency\")\n",
    "plt.tight_layout()\n",
    "plt.show()"
   ]
  },
  {
   "cell_type": "code",
   "execution_count": 359,
   "metadata": {
    "scrolled": true
   },
   "outputs": [
    {
     "data": {
      "image/png": "[encoded data removed]",
      "text/plain": [
       "<Figure size 864x288 with 1 Axes>"
      ]
     },
     "metadata": {
      "needs_background": "light"
     },
     "output_type": "display_data"
    }
   ],
   "source": [
    "# Group by 'year_issued' and count unique 'variations'\n",
    "unique_variations = df_cards.groupby('year_issued')['variation_clean'].nunique()\n",
    "\n",
    "# Plotting\n",
    "plt.figure(figsize = (12,4))\n",
    "plt.bar(unique_variations.index, unique_variations.values, color='skyblue', edgecolor='black', label = 'Other')\n",
    "plt.xlabel('Year Issued', fontsize=12)\n",
    "plt.ylabel('Unique Variations Count', fontsize=12)\n",
    "plt.title('Unique Variations Count by Year', fontsize=18)\n",
    "plt.tight_layout()\n",
    "plt.show()"
   ]
  },
  {
   "cell_type": "code",
   "execution_count": 177,
   "metadata": {},
   "outputs": [
    {
     "data": {
      "text/plain": [
       "{'matrix': <matplotlib.axes._subplots.AxesSubplot at 0x7f97303953c8>,\n",
       " 'shading': <matplotlib.axes._subplots.AxesSubplot at 0x7f9762dd7630>,\n",
       " 'totals': <matplotlib.axes._subplots.AxesSubplot at 0x7f97538d07b8>,\n",
       " 'intersections': <matplotlib.axes._subplots.AxesSubplot at 0x7f97659c9630>}"
      ]
     },
     "execution_count": 177,
     "metadata": {},
     "output_type": "execute_result"
    },
    {
     "data": {
      "image/png": "[encoded data removed]",
      "text/plain": [
       "<Figure size 352x320 with 4 Axes>"
      ]
     },
     "metadata": {
      "needs_background": "light"
     },
     "output_type": "display_data"
    }
   ],
   "source": [
    "xx = df_cards.groupby('variety_clean')[['is_fotl','is_choice','is_pulsar','is_wave']].mean()#.reset_index(drop = True)\n",
    "\n",
    "xx.T\n",
    "xx = xx.set_index(list(xx.columns)).groupby(level=list(range(xx.columns.size))).size()\n",
    "plot(xx)\n",
    "\n",
    "\n",
    "#.to_dict()"
   ]
  },
  {
   "cell_type": "markdown",
   "metadata": {},
   "source": [
    "## Analysis"
   ]
  },
  {
   "cell_type": "markdown",
   "metadata": {},
   "source": [
    "#### Reference Card"
   ]
  },
  {
   "cell_type": "code",
   "execution_count": 360,
   "metadata": {
    "scrolled": false
   },
   "outputs": [
    {
     "data": {
      "text/plain": [
       "(67, 67)"
      ]
     },
     "execution_count": 360,
     "metadata": {},
     "output_type": "execute_result"
    }
   ],
   "source": [
    "# find the reference card\n",
    "df_cards['is_reference_card'] = df_cards.groupby('item_name_seo').lots_found.transform('max') == df_cards.lots_found\n",
    "df_cards.is_reference_card.sum(), df_cards.item_name_seo.nunique()"
   ]
  },
  {
   "cell_type": "code",
   "execution_count": 386,
   "metadata": {
    "scrolled": true
   },
   "outputs": [],
   "source": [
    "player_ref_card_spec_id = df_cards.copy().loc[df_cards.is_reference_card == True, ['item_name_seo', 'spec_id']]\n",
    "player_ref_card_spec_id = player_ref_card_spec_id.set_index('item_name_seo').to_dict()['spec_id']"
   ]
  },
  {
   "cell_type": "code",
   "execution_count": 373,
   "metadata": {},
   "outputs": [],
   "source": [
    "ref_variation_player_ct = df_cards.loc[df_cards.is_reference_card].variation_clean.value_counts()\n",
    "ref_variation_avg_trade_ct = df_cards.loc[df_cards.is_reference_card].groupby('variation_clean').lots_found.mean()"
   ]
  },
  {
   "cell_type": "code",
   "execution_count": 488,
   "metadata": {},
   "outputs": [
    {
     "data": {
      "image/png": "[encoded data removed]",
      "text/plain": [
       "<Figure size 720x288 with 2 Axes>"
      ]
     },
     "metadata": {
      "needs_background": "light"
     },
     "output_type": "display_data"
    }
   ],
   "source": [
    "# Create the initial figure and axis\n",
    "fig, ax1 = plt.subplots(figsize=(10, 4))\n",
    "\n",
    "# Width of a bar \n",
    "width = 0.4\n",
    "# Create an array for the positions of the bars on x-axis\n",
    "ind = np.arange(len(ref_variation_player_ct))\n",
    "\n",
    "# Plot the first bar graph on ax1 at the adjusted positions\n",
    "bars1 = ax1.bar(ind - width/2, ref_variation_player_ct.values, width, color='b', alpha=0.6, label='Player Count')\n",
    "ax1.set_ylabel('Player Count', color='b')\n",
    "ax1.tick_params(axis='y', labelcolor='b')\n",
    "\n",
    "# Plot the second bar graph on ax2 at the adjusted positions\n",
    "ax2 = ax1.twinx()\n",
    "bars2 = ax2.bar(ind + width/2, ref_variation_avg_trade_ct.values, width, color='r', alpha=0.6, label='Average Total Trade Count')\n",
    "ax2.set_ylabel('Average Trade Count', color='r')\n",
    "ax2.tick_params(axis='y', labelcolor='r')\n",
    "\n",
    "# Set the x-axis labels and ticks\n",
    "ax1.set_xticks(ind)\n",
    "ax1.set_xticklabels(ref_variation_player_ct.index, rotation=45, ha='right')\n",
    "\n",
    "ax1.legend(loc='upper left')\n",
    "ax2.legend(loc='upper right')\n",
    "plt.title('Variation Player Count and Average Total Trade Count')\n",
    "plt.tight_layout()\n",
    "plt.show()\n"
   ]
  },
  {
   "cell_type": "code",
   "execution_count": 489,
   "metadata": {
    "scrolled": true
   },
   "outputs": [],
   "source": [
    "spec_id_is_ref = df_cards[['spec_id', 'is_reference_card']].set_index('spec_id').to_dict()['is_reference_card']\n",
    "\n",
    "df_lots['is_ref_card'] = df_lots.spec_id.map(spec_id_is_ref)"
   ]
  },
  {
   "cell_type": "code",
   "execution_count": 490,
   "metadata": {},
   "outputs": [
    {
     "data": {
      "text/plain": [
       "109500"
      ]
     },
     "execution_count": 490,
     "metadata": {},
     "output_type": "execute_result"
    }
   ],
   "source": [
    "1750 * 60 + 450 * 10"
   ]
  },
  {
   "cell_type": "code",
   "execution_count": 495,
   "metadata": {
    "scrolled": true
   },
   "outputs": [
    {
     "data": {
      "text/plain": [
       "spec_id\n",
       "2098036    10\n",
       "2132483    10\n",
       "2219340    10\n",
       "2270209    10\n",
       "2274990    10\n",
       "Name: cert_no, dtype: object"
      ]
     },
     "execution_count": 495,
     "metadata": {},
     "output_type": "execute_result"
    }
   ],
   "source": [
    "# for each reference card, find the reference grade \n",
    "grouped = df_lots.loc[df_lots.is_ref_card == True].groupby(['spec_id','grade']).cert_no.count()\n",
    "grouped.groupby(level = 'spec_id').max().sort_values(ascending = True)\n",
    "spec_id_ref_grades = grouped.groupby(level = 'spec_id').idxmax().apply(lambda x: x[1])\n",
    "spec_id_ref_grades.head()"
   ]
  },
  {
   "cell_type": "code",
   "execution_count": 494,
   "metadata": {
    "scrolled": true
   },
   "outputs": [
    {
     "data": {
      "text/plain": [
       "10    56\n",
       "9      8\n",
       "Name: cert_no, dtype: int64"
      ]
     },
     "execution_count": 494,
     "metadata": {},
     "output_type": "execute_result"
    }
   ],
   "source": [
    "spec_id_ref_grades.value_counts()"
   ]
  },
  {
   "cell_type": "markdown",
   "metadata": {},
   "source": [
    "### Create/Analyze Factors -> Pricing Algorithm -> Explaining Errors\n",
    "##### Create/Analyze Factors - where the leeway is\n",
    "##### Pricing can always be a simple regression with time constraint\n",
    "#### Less factors = more error explanation"
   ]
  },
  {
   "cell_type": "code",
   "execution_count": null,
   "metadata": {},
   "outputs": [],
   "source": []
  },
  {
   "cell_type": "code",
   "execution_count": null,
   "metadata": {},
   "outputs": [],
   "source": []
  }
 ],
 "metadata": {
  "kernelspec": {
   "display_name": "Python 3",
   "language": "python",
   "name": "python3"
  },
  "language_info": {
   "codemirror_mode": {
    "name": "ipython",
    "version": 3
   },
   "file_extension": ".py",
   "mimetype": "text/x-python",
   "name": "python",
   "nbconvert_exporter": "python",
   "pygments_lexer": "ipython3",
   "version": "3.7.3"
  }
 },
 "nbformat": 4,
 "nbformat_minor": 2
}
